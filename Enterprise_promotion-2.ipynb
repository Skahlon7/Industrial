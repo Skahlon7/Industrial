{
 "cells": [
  {
   "cell_type": "code",
   "execution_count": 54,
   "id": "7435b050",
   "metadata": {},
   "outputs": [
    {
     "name": "stdout",
     "output_type": "stream",
     "text": [
      "Enter number of employees: 3\n",
      "Enter name of employee 1\n",
      "Sam\n",
      "Enter number of Enterprise Cards processed by Sam:\n",
      "7\n",
      "Enter name of employee 2\n",
      "Jai\n",
      "Enter number of Enterprise Cards processed by Jai:\n",
      "5\n",
      "Enter name of employee 3\n",
      "Sahil\n",
      "Enter number of Enterprise Cards processed by Sahil:\n",
      "3\n",
      "{'Sam': 7, 'Jai': 5, 'Sahil': 3}\n",
      "\n",
      "Total Comission Cost:\n",
      "Enter comission rate: 5\n",
      "$75.00\n",
      "\n",
      "Outperformers:\n",
      "('Sam', 7)\n",
      "('Jai', 5)\n"
     ]
    }
   ],
   "source": [
    "#This program calculates retail comission/promotion costs and identifies top performance salesman\n",
    "\n",
    "def main():\n",
    "    amount = get_amount()\n",
    "    print(amount)\n",
    "    print()\n",
    "    print(\"Total Comission Cost:\")\n",
    "    print(f'${comission(amount):,.2f}')\n",
    "    print()\n",
    "    print(\"Outperformers:\")\n",
    "    top2(amount)\n",
    "def get_amount():\n",
    "    num_employees = int(input(\"Enter number of employees: \"))\n",
    "    book = {}\n",
    "    total = 0\n",
    "    for i in range(num_employees):\n",
    "        print(\"Enter name of employee \", i+1, sep=\"\")\n",
    "        name = input()\n",
    "        print(\"Enter number of Enterprise Cards processed by \", name, \":\", sep=\"\")\n",
    "        cards = int(input())\n",
    "        total += cards\n",
    "        book[name] = cards\n",
    "    return book\n",
    "\n",
    "def top2(book):\n",
    "    largest = {k:v for k,v in book.items() if v == max(book.values())}\n",
    "    for key,value in largest.items():\n",
    "        delete = key\n",
    "        val1 = key,value\n",
    "    del book[delete]\n",
    "    largest = {k:v for k,v in book.items() if v == max(book.values())}\n",
    "    for key,value in largest.items():\n",
    "        val2 = key,value\n",
    "        \n",
    "    print(val1)\n",
    "    print(val2)\n",
    "    \n",
    "def comission(book):\n",
    "    total = 0\n",
    "    comm = float(input(\"Enter comission rate: \"))\n",
    "    for val in book.values():\n",
    "        total += val\n",
    "    return total * comm\n",
    "    \n",
    "    \n",
    "main()"
   ]
  },
  {
   "cell_type": "code",
   "execution_count": null,
   "id": "1b8f37d7",
   "metadata": {},
   "outputs": [],
   "source": []
  },
  {
   "cell_type": "code",
   "execution_count": null,
   "id": "d7ecd718",
   "metadata": {},
   "outputs": [],
   "source": []
  }
 ],
 "metadata": {
  "kernelspec": {
   "display_name": "Python 3",
   "language": "python",
   "name": "python3"
  },
  "language_info": {
   "codemirror_mode": {
    "name": "ipython",
    "version": 3
   },
   "file_extension": ".py",
   "mimetype": "text/x-python",
   "name": "python",
   "nbconvert_exporter": "python",
   "pygments_lexer": "ipython3",
   "version": "3.8.8"
  }
 },
 "nbformat": 4,
 "nbformat_minor": 5
}
