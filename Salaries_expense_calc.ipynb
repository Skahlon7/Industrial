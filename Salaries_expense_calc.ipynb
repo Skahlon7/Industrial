{
 "cells": [
  {
   "cell_type": "code",
   "execution_count": null,
   "id": "a1443153",
   "metadata": {},
   "outputs": [],
   "source": [
    "#This program calculates daily salaries expense\n",
    "\n",
    "def main():\n",
    "    tax_rate = .113\n",
    "    expense = 0\n",
    "    num_employees = int(input(\"Enter number of employees working today: \"))\n",
    "    hours = [0] * num_employees\n",
    "    for index in range(num_employees):\n",
    "        print(\"Enter hours worked for employee \", index+1, \":\", sep=\"\")\n",
    "        hours[index] = float(input())\n",
    "    \n",
    "    pay_rate = float(input(\"Enter hourly pay rate: \"))\n",
    "    for index in range(num_employees):\n",
    "        pay = hours[index] * pay_rate * (1+tax_rate)\n",
    "        expense += pay\n",
    "        print(\"Gross daily pay for employee \", index+1, \": $\",\\\n",
    "              format(pay, \",.2f\"), sep=\"\")\n",
    "    print(\"Total salaries expense: $\", format(expense, \",.2f\"), sep=\"\" )\n",
    "                       \n",
    "main()"
   ]
  }
 ],
 "metadata": {
  "kernelspec": {
   "display_name": "Python 3",
   "language": "python",
   "name": "python3"
  },
  "language_info": {
   "codemirror_mode": {
    "name": "ipython",
    "version": 3
   },
   "file_extension": ".py",
   "mimetype": "text/x-python",
   "name": "python",
   "nbconvert_exporter": "python",
   "pygments_lexer": "ipython3",
   "version": "3.8.8"
  }
 },
 "nbformat": 4,
 "nbformat_minor": 5
}
